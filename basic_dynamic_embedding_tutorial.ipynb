{
 "cells": [
  {
   "cell_type": "markdown",
   "id": "59145d2e",
   "metadata": {},
   "source": [
    "## Importing libraries"
   ]
  },
  {
   "cell_type": "code",
   "execution_count": 1,
   "id": "439245e0",
   "metadata": {},
   "outputs": [
    {
     "name": "stderr",
     "output_type": "stream",
     "text": [
      "2023-03-23 07:46:25.377756: W tensorflow/stream_executor/platform/default/dso_loader.cc:64] Could not load dynamic library 'libcudart.so.11.0'; dlerror: libcudart.so.11.0: cannot open shared object file: No such file or directory\n",
      "2023-03-23 07:46:25.377797: I tensorflow/stream_executor/cuda/cudart_stub.cc:29] Ignore above cudart dlerror if you do not have a GPU set up on your machine.\n"
     ]
    },
    {
     "name": "stdout",
     "output_type": "stream",
     "text": [
      "WARNING:tensorflow:dynamic_embedding.GraphKeys has already been deprecated. The Variable will not be added to collections because it does not actully own any value, but only a holder of tables, which may lead to import_meta_graph failed since non-valued object has been added to collection. If you need to use `tf.compat.v1.train.Saver` and access all Variables from collection, you could manually add it to the collection by tf.compat.v1.add_to_collections(names, var) instead.\n",
      "2.8.3\n"
     ]
    }
   ],
   "source": [
    "import tensorflow as tf\n",
    "\n",
    "import tensorflow_recommenders as tfrs\n",
    "import tensorflow_recommenders_addons as tfra\n",
    "import tensorflow_recommenders_addons.dynamic_embedding as de\n",
    "import tensorflow_datasets as tfds\n",
    "\n",
    "print(tf.__version__)"
   ]
  },
  {
   "cell_type": "markdown",
   "id": "a8ab3e40",
   "metadata": {},
   "source": [
    "## Checking how the table size changes with insert\n",
    "\n",
    "# Notes:\n",
    "\n",
    "* `de.embedding_lookup()` function does not insert keys into the CuckooHashTable. It simply returns a dynamically created set of defualts using a given initializer. \n",
    "  * If you want to see the table actually being updated, you'd need to trigger backpropagation through the returned variable of `de.embedding_lookup()`.\n",
    "\n",
    "* `DynamicEmbeddingOptimizer()` calls `var.update_op()`, which will [insert the keys](https://github.com/tensorflow/recommenders-addons/blob/r0.5/tensorflow_recommenders_addons/dynamic_embedding/python/ops/dynamic_embedding_ops.py#L365)\n",
    "  * This is called after applying gradients to variables as shown [here](https://github.com/tensorflow/recommenders-addons/blob/r0.5/tensorflow_recommenders_addons/dynamic_embedding/python/ops/dynamic_embedding_optimizer.py#L139)"
   ]
  },
  {
   "cell_type": "code",
   "execution_count": 2,
   "id": "92bcfbd0",
   "metadata": {},
   "outputs": [
    {
     "name": "stderr",
     "output_type": "stream",
     "text": [
      "2023-03-23 07:46:27.301862: I tensorflow/core/platform/cpu_feature_guard.cc:151] This TensorFlow binary is optimized with oneAPI Deep Neural Network Library (oneDNN) to use the following CPU instructions in performance-critical operations:  AVX2 AVX512F FMA\n",
      "To enable them in other operations, rebuild TensorFlow with the appropriate compiler flags.\n",
      "2023-03-23 07:46:27.345830: I tensorflow/stream_executor/cuda/cuda_gpu_executor.cc:922] could not open file to read NUMA node: /sys/bus/pci/devices/0000:01:00.0/numa_node\n",
      "Your kernel may have been built without NUMA support.\n",
      "2023-03-23 07:46:27.345957: W tensorflow/stream_executor/platform/default/dso_loader.cc:64] Could not load dynamic library 'libcudart.so.11.0'; dlerror: libcudart.so.11.0: cannot open shared object file: No such file or directory\n",
      "2023-03-23 07:46:27.345985: W tensorflow/stream_executor/platform/default/dso_loader.cc:64] Could not load dynamic library 'libcublas.so.11'; dlerror: libcublas.so.11: cannot open shared object file: No such file or directory\n",
      "2023-03-23 07:46:27.346007: W tensorflow/stream_executor/platform/default/dso_loader.cc:64] Could not load dynamic library 'libcublasLt.so.11'; dlerror: libcublasLt.so.11: cannot open shared object file: No such file or directory\n",
      "2023-03-23 07:46:27.346029: W tensorflow/stream_executor/platform/default/dso_loader.cc:64] Could not load dynamic library 'libcufft.so.10'; dlerror: libcufft.so.10: cannot open shared object file: No such file or directory\n",
      "2023-03-23 07:46:27.346073: W tensorflow/stream_executor/platform/default/dso_loader.cc:64] Could not load dynamic library 'libcurand.so.10'; dlerror: libcurand.so.10: cannot open shared object file: No such file or directory\n",
      "2023-03-23 07:46:27.346102: W tensorflow/stream_executor/platform/default/dso_loader.cc:64] Could not load dynamic library 'libcusolver.so.11'; dlerror: libcusolver.so.11: cannot open shared object file: No such file or directory\n",
      "2023-03-23 07:46:27.346123: W tensorflow/stream_executor/platform/default/dso_loader.cc:64] Could not load dynamic library 'libcusparse.so.11'; dlerror: libcusparse.so.11: cannot open shared object file: No such file or directory\n",
      "2023-03-23 07:46:27.346146: W tensorflow/stream_executor/platform/default/dso_loader.cc:64] Could not load dynamic library 'libcudnn.so.8'; dlerror: libcudnn.so.8: cannot open shared object file: No such file or directory\n",
      "2023-03-23 07:46:27.346151: W tensorflow/core/common_runtime/gpu/gpu_device.cc:1850] Cannot dlopen some GPU libraries. Please make sure the missing libraries mentioned above are installed properly if you would like to use GPU. Follow the guide at https://www.tensorflow.org/install/gpu for how to download and setup the required libraries for your platform.\n",
      "Skipping registering GPU devices...\n",
      "2023-03-23 07:46:27.498735: I tensorflow/stream_executor/cuda/cuda_gpu_executor.cc:922] could not open file to read NUMA node: /sys/bus/pci/devices/0000:01:00.0/numa_node\n",
      "Your kernel may have been built without NUMA support.\n",
      "2023-03-23 07:46:27.498772: W tensorflow/core/common_runtime/gpu/gpu_device.cc:1850] Cannot dlopen some GPU libraries. Please make sure the missing libraries mentioned above are installed properly if you would like to use GPU. Follow the guide at https://www.tensorflow.org/install/gpu for how to download and setup the required libraries for your platform.\n",
      "Skipping registering GPU devices...\n",
      "2023-03-23 07:46:27.508452: I ./tensorflow_recommenders_addons/dynamic_embedding/core/kernels/lookup_impl/lookup_table_op_cpu.h:279] HashTable on CPU is created on default mode: K=l, V=f, init_size=1\n"
     ]
    },
    {
     "name": "stdout",
     "output_type": "stream",
     "text": [
      "w.tables[0].size(): 0\n",
      "lookup: TensorShape(None)\n",
      "a_lookup.shape: (10, 128)\n",
      "w.tables[0].size(): 0\n",
      "lookup: TensorShape(None)\n",
      "a_lookup.shape: (5, 128)\n"
     ]
    }
   ],
   "source": [
    "tf.keras.backend.clear_session()\n",
    "# source: https://github.com/tensorflow/recommenders-addons/blob/master/tensorflow_recommenders_addons/dynamic_embedding/python/ops/dynamic_embedding_variable.py\n",
    "\n",
    "w = de.get_variable(\n",
    "        name=\"dynamic_embeddings\", initializer=tf.random_normal_initializer(), dim=128, init_size=1\n",
    ")\n",
    "\n",
    "@tf.function\n",
    "def lookup(w, ids):\n",
    "    lookup =  de.embedding_lookup(params=w, ids=ids)\n",
    "    tf.print(\"w.tables[0].size():\", w.tables[0].size())\n",
    "    tf.print(\"lookup:\", lookup.shape)\n",
    "    return lookup\n",
    "\n",
    "a = tf.constant(list(range(10)), dtype=tf.int64)\n",
    "b = tf.constant(list(range(8, 13)), dtype=tf.int64)\n",
    "\n",
    "a_lookup = lookup(w, a)\n",
    "print(f\"a_lookup.shape: {a_lookup.shape}\")\n",
    "b_lookup = lookup(w, b)\n",
    "print(f\"a_lookup.shape: {b_lookup.shape}\")"
   ]
  },
  {
   "cell_type": "code",
   "execution_count": 5,
   "id": "070175f1",
   "metadata": {},
   "outputs": [
    {
     "name": "stdout",
     "output_type": "stream",
     "text": [
      "w.tables[0].size(): 0\n",
      "lookup: TensorShape(None)\n",
      "tf.Tensor(\n",
      "[[-0.00356413  0.0547847  -0.00334223 -0.08446518 -0.02133811 -0.04229746\n",
      "   0.01721664  0.04470515 -0.00291684 -0.04010057  0.02244372 -0.04407796\n",
      "   0.09183028 -0.01703818  0.05595235 -0.0328613  -0.03029377 -0.07045496\n",
      "  -0.07526308 -0.0491431   0.06933867  0.0224447  -0.00316553 -0.03956433\n",
      "   0.01089358 -0.02696313 -0.00384464  0.02302212  0.04632415 -0.03215977\n",
      "   0.03435693  0.06043411  0.02410688  0.13281073 -0.03000664 -0.04564477\n",
      "   0.05640594 -0.0522706  -0.024421   -0.04443626 -0.0141398   0.08570148\n",
      "   0.00496063  0.08084209 -0.10473832 -0.02952057  0.00943923  0.02390533\n",
      "  -0.07228237 -0.00630482 -0.02362571 -0.01617179  0.07206067  0.08367079\n",
      "  -0.06514543  0.03341967  0.06262783  0.00437169 -0.06851883  0.11800148\n",
      "  -0.01565961  0.04720999  0.12679636  0.05984683 -0.05495789  0.04817299\n",
      "   0.00075403 -0.05112112 -0.06479328 -0.06982256  0.03006179  0.00498447\n",
      "  -0.0110566   0.07950263  0.03876909  0.13053636 -0.06833948  0.01886994\n",
      "   0.07298589  0.00750832 -0.03950795  0.08827511 -0.11125302  0.02203417\n",
      "  -0.00685865  0.03820867 -0.02340682 -0.05731019 -0.02185408 -0.01009877\n",
      "   0.03715104 -0.01473453  0.01967227 -0.02010721 -0.04029199  0.03170884\n",
      "   0.0448394   0.02248411 -0.00834351 -0.03099836 -0.03892227  0.02503672\n",
      "  -0.05981851  0.00147466 -0.07196145 -0.11311771 -0.03596678 -0.03233842\n",
      "   0.0626049   0.06358116 -0.03578676  0.04767682 -0.05580628  0.01584492\n",
      "  -0.07360711 -0.1042309  -0.0027038   0.00398082 -0.06020964  0.01616424\n",
      "  -0.00557099 -0.04661381  0.04092451 -0.01163973  0.03614607  0.03125511\n",
      "   0.09656672 -0.04594096]\n",
      " [ 0.03427954 -0.09299322 -0.06654689  0.02915869 -0.00614773  0.04157596\n",
      "   0.05480425 -0.04606558  0.00763397 -0.00238677 -0.02227718 -0.06461052\n",
      "   0.06934766  0.04815077  0.03282032 -0.02206886  0.06486132  0.05042009\n",
      "  -0.03815746 -0.0194577   0.02130632 -0.03393747 -0.0327288  -0.01513878\n",
      "  -0.11513302 -0.05127835 -0.02732948  0.0049828   0.00325055  0.12602942\n",
      "  -0.06620003  0.00994889  0.05484673 -0.01536507 -0.06082357  0.03006518\n",
      "   0.08578436  0.04971554  0.02839304 -0.01909736 -0.02168798  0.001478\n",
      "  -0.01967045  0.08903704  0.04878105 -0.03748449 -0.05215053 -0.08599774\n",
      "  -0.02157168 -0.11501507  0.0517956   0.00746089 -0.06301603 -0.02365344\n",
      "   0.00447219 -0.07784966 -0.01418119 -0.04581141 -0.03049868  0.08409707\n",
      "  -0.07290575 -0.01454693 -0.03719809 -0.05645741  0.02867172 -0.00297327\n",
      "  -0.03347826 -0.04502429  0.0532819   0.06742471 -0.02724194 -0.00373638\n",
      "  -0.02831    -0.06206939 -0.02272054  0.03088932 -0.00303839 -0.00575555\n",
      "   0.03355829  0.01190133  0.07529111  0.00704707  0.06445002 -0.02857035\n",
      "  -0.07647215 -0.10893565  0.00599395  0.07195725 -0.02375805  0.01984473\n",
      "  -0.09887514  0.04350822  0.03946256 -0.04366837  0.01884068 -0.0350487\n",
      "  -0.11689361  0.00175904 -0.07604374 -0.06686858 -0.0672309   0.018253\n",
      "  -0.04757693 -0.00162673  0.00413276  0.04524125 -0.02872097 -0.06633474\n",
      "   0.05147622  0.03580661 -0.01640698  0.02088193 -0.04629232 -0.05517529\n",
      "  -0.00233693 -0.03024839  0.02801581  0.00936089  0.02978448 -0.01620509\n",
      "   0.04989335 -0.00151825 -0.01261724  0.06808131 -0.04758559 -0.02269545\n",
      "  -0.0225632   0.11367568]], shape=(2, 128), dtype=float32)\n"
     ]
    }
   ],
   "source": [
    "a_lookup = lookup(w, tf.constant([0,0], dtype=tf.int64))\n",
    "print(a_lookup)"
   ]
  },
  {
   "cell_type": "markdown",
   "id": "c48bf97a",
   "metadata": {},
   "source": [
    "## Updating the underneath `CuckooHashTable`\n",
    "\n",
    "Underneath this is doing something like,\n",
    "\n",
    "```\n",
    "keys_tensor = tf.constant(['a', 'b', 'c'])\n",
    "vals_tensor = tf.constant([7, 8, 9], dtype=tf.int64)\n",
    "input_tensor = tf.constant(['a', 'f'])\n",
    "\n",
    "tablel = tfra.dynamic_embedding.CuckooHashTable(\n",
    "    key_dtype=tf.string,\n",
    "    value_dtype=tf.int64,\n",
    "    default_value=[0]\n",
    ")\n",
    "table.insert(keys_tensor, vals_tensor)\n",
    "table.lookup(input_tensor).numpy()\n",
    "```"
   ]
  },
  {
   "cell_type": "code",
   "execution_count": 6,
   "id": "ce2f318c",
   "metadata": {},
   "outputs": [
    {
     "name": "stdout",
     "output_type": "stream",
     "text": [
      "tf.Tensor([False False False False False False False False False False], shape=(10,), dtype=bool)\n",
      "tf.Tensor(0, shape=(), dtype=int64)\n",
      "tf.Tensor(0, shape=(), dtype=int64)\n",
      "tf.Tensor([ True  True False False False], shape=(5,), dtype=bool)\n"
     ]
    },
    {
     "name": "stderr",
     "output_type": "stream",
     "text": [
      "2023-03-16 19:04:07.087856: I tensorflow/stream_executor/cuda/cuda_gpu_executor.cc:922] could not open file to read NUMA node: /sys/bus/pci/devices/0000:01:00.0/numa_node\n",
      "Your kernel may have been built without NUMA support.\n",
      "2023-03-16 19:04:07.087922: W tensorflow/core/common_runtime/gpu/gpu_device.cc:1850] Cannot dlopen some GPU libraries. Please make sure the missing libraries mentioned above are installed properly if you would like to use GPU. Follow the guide at https://www.tensorflow.org/install/gpu for how to download and setup the required libraries for your platform.\n",
      "Skipping registering GPU devices...\n",
      "2023-03-16 19:04:07.089398: I ./tensorflow_recommenders_addons/dynamic_embedding/core/kernels/lookup_impl/lookup_table_op_cpu.h:279] HashTable on CPU is created on default mode: K=l, V=f, init_size=1\n"
     ]
    }
   ],
   "source": [
    "tf.keras.backend.clear_session()\n",
    "\n",
    "w_dummy = de.get_variable(\n",
    "        name=\"dynamic_embeddings\", initializer=tf.random_normal_initializer(), dim=128, init_size=1\n",
    "    )\n",
    "\n",
    "a = tf.constant(list(range(10)), dtype=tf.int64)\n",
    "b = tf.constant(list(range(8, 13)), dtype=tf.int64)\n",
    "\n",
    "a_lookup, keys_exists = w_dummy.lookup(a, return_exists=True)\n",
    "print(keys_exists)\n",
    "print(w.size())\n",
    "w_dummy.upsert(a, a_lookup)\n",
    "print(w.size()) \n",
    "b_lookup, keys_exists = w_dummy.lookup(b, return_exists=True)\n",
    "print(keys_exists)"
   ]
  },
  {
   "cell_type": "markdown",
   "id": "68cdffc2",
   "metadata": {},
   "source": [
    "## Using a RestrictPolicy to reduce the size of the table"
   ]
  },
  {
   "cell_type": "code",
   "execution_count": 10,
   "id": "b451e66e",
   "metadata": {},
   "outputs": [
    {
     "name": "stdout",
     "output_type": "stream",
     "text": [
      "tf.Tensor(10, shape=(), dtype=int64)\n",
      "tf.Tensor(13, shape=(), dtype=int64)\n",
      "tf.Tensor(5, shape=(), dtype=int64)\n"
     ]
    },
    {
     "name": "stderr",
     "output_type": "stream",
     "text": [
      "2023-03-16 19:07:24.694006: I tensorflow/stream_executor/cuda/cuda_gpu_executor.cc:922] could not open file to read NUMA node: /sys/bus/pci/devices/0000:01:00.0/numa_node\n",
      "Your kernel may have been built without NUMA support.\n",
      "2023-03-16 19:07:24.694061: W tensorflow/core/common_runtime/gpu/gpu_device.cc:1850] Cannot dlopen some GPU libraries. Please make sure the missing libraries mentioned above are installed properly if you would like to use GPU. Follow the guide at https://www.tensorflow.org/install/gpu for how to download and setup the required libraries for your platform.\n",
      "Skipping registering GPU devices...\n",
      "2023-03-16 19:07:24.695491: I ./tensorflow_recommenders_addons/dynamic_embedding/core/kernels/lookup_impl/lookup_table_op_cpu.h:157] HashTable on CPU is created on optimized mode: K=l, V=i, DIM=1, init_size=1\n",
      "2023-03-16 19:07:24.696632: I ./tensorflow_recommenders_addons/dynamic_embedding/core/kernels/lookup_impl/lookup_table_op_cpu.h:279] HashTable on CPU is created on default mode: K=l, V=f, init_size=1\n"
     ]
    }
   ],
   "source": [
    "tf.keras.backend.clear_session()\n",
    "\n",
    "w_dummy = de.get_variable(\n",
    "    name=\"dynamic_embeddings\", \n",
    "    initializer=tf.random_normal_initializer(), \n",
    "    dim=128, \n",
    "    init_size=1, \n",
    "    restrict_policy=de.FrequencyRestrictPolicy\n",
    ")\n",
    "\n",
    "\n",
    "a = tf.constant(list(range(10)), dtype=tf.int64)\n",
    "b = tf.constant(list(range(8, 13)), dtype=tf.int64)\n",
    "\n",
    "a_lookup, keys_exists = w_dummy.lookup(a, return_exists=True)\n",
    "w_dummy.upsert(a, a_lookup)\n",
    "w_dummy.restrict_policy.apply_update(a)\n",
    "print(w_dummy.size()) \n",
    "\n",
    "b_lookup, keys_exists = w_dummy.lookup(b, return_exists=True)\n",
    "w_dummy.upsert(b, b_lookup)\n",
    "w_dummy.restrict_policy.apply_update(b)\n",
    "print(w_dummy.size()) \n",
    "\n",
    "#print(w_dummy.restrict_policy.status)\n",
    "\n",
    "# Reduce the size of the table\n",
    "w_dummy.restrict(5)\n",
    "print(w_dummy.size())\n",
    "#w_dummy.export()"
   ]
  },
  {
   "cell_type": "code",
   "execution_count": null,
   "id": "9db554e7",
   "metadata": {},
   "outputs": [],
   "source": []
  }
 ],
 "metadata": {
  "kernelspec": {
   "display_name": "Python 3 (ipykernel)",
   "language": "python",
   "name": "python3"
  },
  "language_info": {
   "codemirror_mode": {
    "name": "ipython",
    "version": 3
   },
   "file_extension": ".py",
   "mimetype": "text/x-python",
   "name": "python",
   "nbconvert_exporter": "python",
   "pygments_lexer": "ipython3",
   "version": "3.9.16"
  }
 },
 "nbformat": 4,
 "nbformat_minor": 5
}
