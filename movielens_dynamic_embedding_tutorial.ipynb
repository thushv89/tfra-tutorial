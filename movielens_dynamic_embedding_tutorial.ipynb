{
 "cells": [
  {
   "cell_type": "code",
   "execution_count": 1,
   "id": "439245e0",
   "metadata": {},
   "outputs": [
    {
     "name": "stderr",
     "output_type": "stream",
     "text": [
      "2023-03-26 21:52:21.952716: W tensorflow/stream_executor/platform/default/dso_loader.cc:64] Could not load dynamic library 'libcudart.so.11.0'; dlerror: libcudart.so.11.0: cannot open shared object file: No such file or directory\n",
      "2023-03-26 21:52:21.953128: I tensorflow/stream_executor/cuda/cudart_stub.cc:29] Ignore above cudart dlerror if you do not have a GPU set up on your machine.\n"
     ]
    },
    {
     "name": "stdout",
     "output_type": "stream",
     "text": [
      "WARNING:tensorflow:dynamic_embedding.GraphKeys has already been deprecated. The Variable will not be added to collections because it does not actully own any value, but only a holder of tables, which may lead to import_meta_graph failed since non-valued object has been added to collection. If you need to use `tf.compat.v1.train.Saver` and access all Variables from collection, you could manually add it to the collection by tf.compat.v1.add_to_collections(names, var) instead.\n",
      "2.8.3\n"
     ]
    }
   ],
   "source": [
    "import tensorflow as tf\n",
    "\n",
    "# tfra does some patching on tensorflow so MUST be imported after importing tf\n",
    "import tensorflow_recommenders as tfrs\n",
    "import tensorflow_recommenders_addons as tfra\n",
    "import tensorflow_recommenders_addons.dynamic_embedding as de\n",
    "import tensorflow_datasets as tfds\n",
    "\n",
    "import functools\n",
    "from typing import Dict\n",
    "import dataclasses\n",
    "import matplotlib.pyplot as plt\n",
    "%matplotlib inline\n",
    "print(tf.__version__)"
   ]
  },
  {
   "cell_type": "markdown",
   "id": "54499157",
   "metadata": {},
   "source": [
    "## Download datasets"
   ]
  },
  {
   "cell_type": "code",
   "execution_count": 2,
   "id": "8cc5960d",
   "metadata": {},
   "outputs": [
    {
     "name": "stderr",
     "output_type": "stream",
     "text": [
      "WARNING:absl:`TensorInfo.dtype` is deprecated. Please change your code to use NumPy with the field `TensorInfo.np_dtype` or use TensorFlow with the field `TensorInfo.tf_dtype`.\n",
      "WARNING:absl:You use TensorFlow DType <dtype: 'int64'> in tfds.features This will soon be deprecated in favor of NumPy DTypes. In the meantime it was converted to int64.\n",
      "2023-03-26 21:52:30.349603: I tensorflow/stream_executor/cuda/cuda_gpu_executor.cc:922] could not open file to read NUMA node: /sys/bus/pci/devices/0000:01:00.0/numa_node\n",
      "Your kernel may have been built without NUMA support.\n",
      "2023-03-26 21:52:30.350944: W tensorflow/stream_executor/platform/default/dso_loader.cc:64] Could not load dynamic library 'libcudart.so.11.0'; dlerror: libcudart.so.11.0: cannot open shared object file: No such file or directory\n",
      "2023-03-26 21:52:30.351146: W tensorflow/stream_executor/platform/default/dso_loader.cc:64] Could not load dynamic library 'libcublas.so.11'; dlerror: libcublas.so.11: cannot open shared object file: No such file or directory\n",
      "2023-03-26 21:52:30.351214: W tensorflow/stream_executor/platform/default/dso_loader.cc:64] Could not load dynamic library 'libcublasLt.so.11'; dlerror: libcublasLt.so.11: cannot open shared object file: No such file or directory\n",
      "2023-03-26 21:52:30.351259: W tensorflow/stream_executor/platform/default/dso_loader.cc:64] Could not load dynamic library 'libcufft.so.10'; dlerror: libcufft.so.10: cannot open shared object file: No such file or directory\n",
      "2023-03-26 21:52:30.351383: W tensorflow/stream_executor/platform/default/dso_loader.cc:64] Could not load dynamic library 'libcurand.so.10'; dlerror: libcurand.so.10: cannot open shared object file: No such file or directory\n",
      "2023-03-26 21:52:30.351442: W tensorflow/stream_executor/platform/default/dso_loader.cc:64] Could not load dynamic library 'libcusolver.so.11'; dlerror: libcusolver.so.11: cannot open shared object file: No such file or directory\n",
      "2023-03-26 21:52:30.351487: W tensorflow/stream_executor/platform/default/dso_loader.cc:64] Could not load dynamic library 'libcusparse.so.11'; dlerror: libcusparse.so.11: cannot open shared object file: No such file or directory\n",
      "2023-03-26 21:52:30.351566: W tensorflow/stream_executor/platform/default/dso_loader.cc:64] Could not load dynamic library 'libcudnn.so.8'; dlerror: libcudnn.so.8: cannot open shared object file: No such file or directory\n",
      "2023-03-26 21:52:30.351758: W tensorflow/core/common_runtime/gpu/gpu_device.cc:1850] Cannot dlopen some GPU libraries. Please make sure the missing libraries mentioned above are installed properly if you would like to use GPU. Follow the guide at https://www.tensorflow.org/install/gpu for how to download and setup the required libraries for your platform.\n",
      "Skipping registering GPU devices...\n",
      "2023-03-26 21:52:30.356030: I tensorflow/core/platform/cpu_feature_guard.cc:151] This TensorFlow binary is optimized with oneAPI Deep Neural Network Library (oneDNN) to use the following CPU instructions in performance-critical operations:  AVX2 AVX512F FMA\n",
      "To enable them in other operations, rebuild TensorFlow with the appropriate compiler flags.\n",
      "WARNING:absl:`TensorInfo.dtype` is deprecated. Please change your code to use NumPy with the field `TensorInfo.np_dtype` or use TensorFlow with the field `TensorInfo.tf_dtype`.\n"
     ]
    }
   ],
   "source": [
    "# https://www.tensorflow.org/datasets/catalog/movielens\n",
    "# Interactions dataset\n",
    "raw_ratings_dataset = tfds.load(\"movielens/1m-ratings\", split=\"train\")\n",
    "# Candidates dataset\n",
    "raw_movies_dataset = tfds.load(\"movielens/1m-movies\", split=\"train\")"
   ]
  },
  {
   "cell_type": "code",
   "execution_count": 3,
   "id": "6995d5f0",
   "metadata": {},
   "outputs": [
    {
     "data": {
      "text/html": [
       "<div>\n",
       "<style scoped>\n",
       "    .dataframe tbody tr th:only-of-type {\n",
       "        vertical-align: middle;\n",
       "    }\n",
       "\n",
       "    .dataframe tbody tr th {\n",
       "        vertical-align: top;\n",
       "    }\n",
       "\n",
       "    .dataframe thead th {\n",
       "        text-align: right;\n",
       "    }\n",
       "</style>\n",
       "<table border=\"1\" class=\"dataframe\">\n",
       "  <thead>\n",
       "    <tr style=\"text-align: right;\">\n",
       "      <th></th>\n",
       "      <th>bucketized_user_age</th>\n",
       "      <th>movie_genres</th>\n",
       "      <th>movie_id</th>\n",
       "      <th>movie_title</th>\n",
       "      <th>timestamp</th>\n",
       "      <th>user_gender</th>\n",
       "      <th>user_id</th>\n",
       "      <th>user_occupation_label</th>\n",
       "      <th>user_occupation_text</th>\n",
       "      <th>user_rating</th>\n",
       "      <th>user_zip_code</th>\n",
       "    </tr>\n",
       "  </thead>\n",
       "  <tbody>\n",
       "    <tr>\n",
       "      <th>0</th>\n",
       "      <td>35.0</td>\n",
       "      <td>[0, 7]</td>\n",
       "      <td>b'3107'</td>\n",
       "      <td>b'Backdraft (1991)'</td>\n",
       "      <td>977432193</td>\n",
       "      <td>True</td>\n",
       "      <td>b'130'</td>\n",
       "      <td>18</td>\n",
       "      <td>b'technician/engineer'</td>\n",
       "      <td>5.0</td>\n",
       "      <td>b'50021'</td>\n",
       "    </tr>\n",
       "    <tr>\n",
       "      <th>1</th>\n",
       "      <td>25.0</td>\n",
       "      <td>[7]</td>\n",
       "      <td>b'2114'</td>\n",
       "      <td>b'Outsiders, The (1983)'</td>\n",
       "      <td>965932967</td>\n",
       "      <td>False</td>\n",
       "      <td>b'3829'</td>\n",
       "      <td>0</td>\n",
       "      <td>b'academic/educator'</td>\n",
       "      <td>4.0</td>\n",
       "      <td>b'22307'</td>\n",
       "    </tr>\n",
       "    <tr>\n",
       "      <th>2</th>\n",
       "      <td>18.0</td>\n",
       "      <td>[4, 15]</td>\n",
       "      <td>b'256'</td>\n",
       "      <td>b'Junior (1994)'</td>\n",
       "      <td>1012103552</td>\n",
       "      <td>False</td>\n",
       "      <td>b'1265'</td>\n",
       "      <td>21</td>\n",
       "      <td>b'writer'</td>\n",
       "      <td>1.0</td>\n",
       "      <td>b'49321'</td>\n",
       "    </tr>\n",
       "    <tr>\n",
       "      <th>3</th>\n",
       "      <td>18.0</td>\n",
       "      <td>[0, 10]</td>\n",
       "      <td>b'1389'</td>\n",
       "      <td>b'Jaws 3-D (1983)'</td>\n",
       "      <td>972004605</td>\n",
       "      <td>True</td>\n",
       "      <td>b'2896'</td>\n",
       "      <td>14</td>\n",
       "      <td>b'sales/marketing'</td>\n",
       "      <td>5.0</td>\n",
       "      <td>b'60073'</td>\n",
       "    </tr>\n",
       "    <tr>\n",
       "      <th>4</th>\n",
       "      <td>18.0</td>\n",
       "      <td>[0]</td>\n",
       "      <td>b'3635'</td>\n",
       "      <td>b'Spy Who Loved Me, The (1977)'</td>\n",
       "      <td>961180111</td>\n",
       "      <td>True</td>\n",
       "      <td>b'5264'</td>\n",
       "      <td>17</td>\n",
       "      <td>b'college/grad student'</td>\n",
       "      <td>4.0</td>\n",
       "      <td>b'15217'</td>\n",
       "    </tr>\n",
       "  </tbody>\n",
       "</table>\n",
       "</div>"
      ],
      "text/plain": [
       "   bucketized_user_age movie_genres movie_id                      movie_title  \\\n",
       "0                 35.0       [0, 7]  b'3107'              b'Backdraft (1991)'   \n",
       "1                 25.0          [7]  b'2114'         b'Outsiders, The (1983)'   \n",
       "2                 18.0      [4, 15]   b'256'                 b'Junior (1994)'   \n",
       "3                 18.0      [0, 10]  b'1389'               b'Jaws 3-D (1983)'   \n",
       "4                 18.0          [0]  b'3635'  b'Spy Who Loved Me, The (1977)'   \n",
       "\n",
       "    timestamp  user_gender  user_id  user_occupation_label  \\\n",
       "0   977432193         True   b'130'                     18   \n",
       "1   965932967        False  b'3829'                      0   \n",
       "2  1012103552        False  b'1265'                     21   \n",
       "3   972004605         True  b'2896'                     14   \n",
       "4   961180111         True  b'5264'                     17   \n",
       "\n",
       "      user_occupation_text  user_rating user_zip_code  \n",
       "0   b'technician/engineer'          5.0      b'50021'  \n",
       "1     b'academic/educator'          4.0      b'22307'  \n",
       "2                b'writer'          1.0      b'49321'  \n",
       "3       b'sales/marketing'          5.0      b'60073'  \n",
       "4  b'college/grad student'          4.0      b'15217'  "
      ]
     },
     "execution_count": 3,
     "metadata": {},
     "output_type": "execute_result"
    }
   ],
   "source": [
    "df = tfds.as_dataframe(raw_ratings_dataset.take(100))\n",
    "df.head()"
   ]
  },
  {
   "cell_type": "code",
   "execution_count": 4,
   "id": "92bcfbd0",
   "metadata": {},
   "outputs": [
    {
     "name": "stdout",
     "output_type": "stream",
     "text": [
      "{'bucketized_user_age': <tf.Tensor: shape=(), dtype=float32, numpy=35.0>, 'movie_genres': <tf.Tensor: shape=(2,), dtype=int64, numpy=array([0, 7])>, 'movie_id': <tf.Tensor: shape=(), dtype=string, numpy=b'3107'>, 'movie_title': <tf.Tensor: shape=(), dtype=string, numpy=b'Backdraft (1991)'>, 'timestamp': <tf.Tensor: shape=(), dtype=int64, numpy=977432193>, 'user_gender': <tf.Tensor: shape=(), dtype=bool, numpy=True>, 'user_id': <tf.Tensor: shape=(), dtype=string, numpy=b'130'>, 'user_occupation_label': <tf.Tensor: shape=(), dtype=int64, numpy=18>, 'user_occupation_text': <tf.Tensor: shape=(), dtype=string, numpy=b'technician/engineer'>, 'user_rating': <tf.Tensor: shape=(), dtype=float32, numpy=5.0>, 'user_zip_code': <tf.Tensor: shape=(), dtype=string, numpy=b'50021'>}\n"
     ]
    }
   ],
   "source": [
    "for item in raw_ratings_dataset.take(1):\n",
    "    print(item)"
   ]
  },
  {
   "cell_type": "markdown",
   "id": "c48bf97a",
   "metadata": {},
   "source": [
    "## Processing datasets"
   ]
  },
  {
   "cell_type": "code",
   "execution_count": 5,
   "id": "ce2f318c",
   "metadata": {},
   "outputs": [
    {
     "name": "stdout",
     "output_type": "stream",
     "text": [
      "{'user_id': <tf.Tensor: shape=(), dtype=string, numpy=b'130'>, 'movie_title': <tf.Tensor: shape=(2,), dtype=string, numpy=array([b'backdraft', b'1991'], dtype=object)>}\n",
      "{'user_id': <tf.Tensor: shape=(), dtype=string, numpy=b'3829'>, 'movie_title': <tf.Tensor: shape=(3,), dtype=string, numpy=array([b'outsiders', b'the', b'1983'], dtype=object)>}\n",
      "{'user_id': <tf.Tensor: shape=(), dtype=string, numpy=b'1265'>, 'movie_title': <tf.Tensor: shape=(2,), dtype=string, numpy=array([b'junior', b'1994'], dtype=object)>}\n"
     ]
    }
   ],
   "source": [
    "max_token_length = 6\n",
    "pad_token = \"[PAD]\"\n",
    "punctuation_regex = \"[\\!\\\"#\\$%&\\(\\)\\*\\+,-\\.\\/\\:;\\<\\=\\>\\?@\\[\\]\\\\\\^_`\\{\\|\\}~\\\\t\\\\n]\"\n",
    "\n",
    "def process_text(x: tf.Tensor, max_token_length: int, punctuation_regex: str) -> tf.Tensor:\n",
    "    \n",
    "    return tf.strings.split(\n",
    "        tf.strings.regex_replace(\n",
    "            tf.strings.lower(x[\"movie_title\"]), punctuation_regex, \"\"\n",
    "        )\n",
    "    )[:max_token_length]\n",
    "\n",
    "\n",
    "def process_ratings_dataset(ratings_dataset: tf.data.Dataset) -> tf.data.Dataset:\n",
    "    \n",
    "    partial_process_text = functools.partial(\n",
    "        process_text, max_token_length=max_token_length, punctuation_regex=punctuation_regex\n",
    "    )\n",
    "\n",
    "    preprocessed_movie_title_dataset = ratings_dataset.map(\n",
    "        lambda x: partial_process_text(x)\n",
    "    )\n",
    "\n",
    "    processed_dataset = tf.data.Dataset.zip(\n",
    "        (ratings_dataset, preprocessed_movie_title_dataset)\n",
    "    ).map(\n",
    "        lambda x,y: {\"user_id\": x[\"user_id\"]} | {\"movie_title\": y}\n",
    "    )\n",
    "    \n",
    "    return processed_dataset\n",
    "\n",
    "\n",
    "def process_movies_dataset(movies_dataset: tf.data.Dataset) -> tf.data.Dataset:\n",
    "    \n",
    "    partial_process_text = functools.partial(\n",
    "        process_text, max_token_length=max_token_length, punctuation_regex=punctuation_regex\n",
    "    )\n",
    "    \n",
    "    processed_dataset = raw_movies_dataset.map(\n",
    "        lambda x: partial_process_text(x)\n",
    "    )\n",
    "    \n",
    "    return processed_dataset\n",
    "\n",
    "processed_ratings_dataset = process_ratings_dataset(raw_ratings_dataset)\n",
    "for item in processed_ratings_dataset.take(3):\n",
    "    print(item)"
   ]
  },
  {
   "cell_type": "code",
   "execution_count": 6,
   "id": "6d5deff6",
   "metadata": {},
   "outputs": [
    {
     "name": "stderr",
     "output_type": "stream",
     "text": [
      "WARNING:absl:`TensorInfo.dtype` is deprecated. Please change your code to use NumPy with the field `TensorInfo.np_dtype` or use TensorFlow with the field `TensorInfo.tf_dtype`.\n",
      "WARNING:absl:`TensorInfo.dtype` is deprecated. Please change your code to use NumPy with the field `TensorInfo.np_dtype` or use TensorFlow with the field `TensorInfo.tf_dtype`.\n"
     ]
    },
    {
     "name": "stdout",
     "output_type": "stream",
     "text": [
      "Train size: 900188\n",
      "Validation size: 100021\n",
      "Train dataset size (after batching): 220\n",
      "Validation dataset size (after batching): 25\n"
     ]
    }
   ],
   "source": [
    "batch_size=4096\n",
    "seed=2023\n",
    "train_size = int(len(processed_ratings_dataset) * 0.9)\n",
    "validation_size = len(processed_ratings_dataset) - train_size\n",
    "print(f\"Train size: {train_size}\")\n",
    "print(f\"Validation size: {validation_size}\")\n",
    "\n",
    "# Things we're not considering\n",
    "# out of sample validation\n",
    "# out of time validation\n",
    "\n",
    "@dataclasses.dataclass(frozen=True)\n",
    "class TrainingDatasets:\n",
    "    train_ds: tf.data.Dataset\n",
    "    validation_ds: tf.data.Dataset\n",
    "\n",
    "@dataclasses.dataclass(frozen=True)\n",
    "class RetrievalDatasets:\n",
    "    training_datasets: TrainingDatasets\n",
    "    candidate_dataset: tf.data.Dataset\n",
    "\n",
    "def pad_and_batch_ratings_dataset(dataset: tf.data.Dataset) -> tf.data.Dataset:\n",
    "    \n",
    "    return dataset.padded_batch(\n",
    "        batch_size, \n",
    "        padded_shapes={\n",
    "            \"user_id\": tf.TensorShape([]),\n",
    "            \"movie_title\": tf.TensorShape([max_token_length,])\n",
    "        }, padding_values={\n",
    "            \"user_id\": pad_token, \n",
    "            \"movie_title\": pad_token\n",
    "        }\n",
    "    )\n",
    "    \n",
    "        \n",
    "def split_train_validation_datasets(ratings_dataset: tf.data.Dataset) -> TrainingDatasets:\n",
    "    \n",
    "    shuffled_dataset = ratings_dataset.shuffle(buffer_size=5*batch_size, seed=seed)\n",
    "    train_ds = shuffled_dataset.skip(validation_size).shuffle(buffer_size=10*batch_size).apply(pad_and_batch_ratings_dataset)\n",
    "    validation_ds = shuffled_dataset.take(validation_size).apply(pad_and_batch_ratings_dataset)\n",
    "    \n",
    "    return TrainingDatasets(train_ds=train_ds, validation_ds=validation_ds)\n",
    "\n",
    "def pad_and_batch_candidate_dataset(movies_dataset: tf.data.Dataset) -> tf.data.Dataset:\n",
    "    return movies_dataset.padded_batch(\n",
    "        batch_size, \n",
    "        padded_shapes=tf.TensorShape([max_token_length,]), \n",
    "        padding_values=pad_token\n",
    "    )\n",
    "\n",
    "def create_datasets() -> RetrievalDatasets:\n",
    "    \n",
    "    raw_ratings_dataset = tfds.load(\"movielens/1m-ratings\", split=\"train\")\n",
    "    raw_movies_dataset = tfds.load(\"movielens/1m-movies\", split=\"train\")\n",
    "    \n",
    "    processed_ratings_dataset = process_ratings_dataset(raw_ratings_dataset)\n",
    "    processed_movies_dataset = process_movies_dataset(raw_movies_dataset)\n",
    "\n",
    "    training_datasets = split_train_validation_datasets(processed_ratings_dataset)\n",
    "    candidate_dataset = pad_and_batch_candidate_dataset(processed_movies_dataset)\n",
    "    \n",
    "    return RetrievalDatasets(training_datasets=training_datasets, candidate_dataset=candidate_dataset)\n",
    "\n",
    "datasets = create_datasets()\n",
    "print(f\"Train dataset size (after batching): {len(datasets.training_datasets.train_ds)}\")\n",
    "print(f\"Validation dataset size (after batching): {len(datasets.training_datasets.validation_ds)}\")"
   ]
  },
  {
   "cell_type": "markdown",
   "id": "cbe5cf3e",
   "metadata": {},
   "source": [
    "## Defining user and item towers"
   ]
  },
  {
   "cell_type": "code",
   "execution_count": 7,
   "id": "4abf0a30",
   "metadata": {},
   "outputs": [],
   "source": [
    "def get_user_id_lookup_layer(dataset: tf.data.Dataset) -> tf.keras.layers.Layer:\n",
    "    user_lookup_layer = tf.keras.layers.StringLookup(mask_token=None)\n",
    "    user_lookup_layer.adapt(dataset.map(lambda x: x[\"user_id\"]))\n",
    "    return user_lookup_layer\n",
    "\n",
    "def build_user_model(user_id_lookup_layer: tf.keras.layers.StringLookup):\n",
    "    vocab_size = user_id_lookup_layer.vocabulary_size()\n",
    "    return tf.keras.Sequential([\n",
    "        # Fix from https://github.com/keras-team/keras/issues/16101\n",
    "        tf.keras.layers.InputLayer(input_shape=(), dtype=tf.string),\n",
    "        user_id_lookup_layer, \n",
    "        tf.keras.layers.Embedding(vocab_size, 64), \n",
    "        tf.keras.layers.Dense(64, activation=\"gelu\"),\n",
    "        tf.keras.layers.Dense(32),\n",
    "        tf.keras.layers.Lambda(lambda x: tf.math.l2_normalize(x, axis=1))\n",
    "        \n",
    "    ], name='user_model')\n"
   ]
  },
  {
   "cell_type": "code",
   "execution_count": 8,
   "id": "84a7c78d",
   "metadata": {},
   "outputs": [],
   "source": [
    "def get_movie_title_lookup_layer(dataset: tf.data.Dataset) -> tf.keras.layers.Layer:\n",
    "    movie_title_lookup_layer = tf.keras.layers.StringLookup(mask_token=pad_token)\n",
    "    movie_title_lookup_layer.adapt(dataset.map(lambda x: x[\"movie_title\"]))\n",
    "    return movie_title_lookup_layer\n",
    "\n",
    "def build_item_model(movie_title_lookup_layer: tf.keras.layers.StringLookup):\n",
    "    vocab_size = movie_title_lookup_layer.vocabulary_size()\n",
    "    return tf.keras.models.Sequential([\n",
    "        tf.keras.layers.InputLayer(input_shape=(max_token_length), dtype=tf.string),\n",
    "        movie_title_lookup_layer, \n",
    "        tf.keras.layers.Embedding(vocab_size, 64), \n",
    "        tf.keras.layers.GlobalAveragePooling1D(),\n",
    "        tf.keras.layers.Dense(64, activation=\"gelu\"),\n",
    "        tf.keras.layers.Dense(32),\n",
    "        tf.keras.layers.Lambda(lambda x: tf.math.l2_normalize(x, axis=1))\n",
    "    ])"
   ]
  },
  {
   "cell_type": "markdown",
   "id": "f941fb70",
   "metadata": {},
   "source": [
    "## Testing the lookup layers"
   ]
  },
  {
   "cell_type": "code",
   "execution_count": 9,
   "id": "760c762a",
   "metadata": {},
   "outputs": [
    {
     "name": "stderr",
     "output_type": "stream",
     "text": [
      "2023-03-26 21:52:51.843588: I tensorflow/core/kernels/data/shuffle_dataset_op.cc:390] Filling up shuffle buffer (this may take a while): 1 of 40960\n",
      "2023-03-26 21:52:52.882983: I tensorflow/core/kernels/data/shuffle_dataset_op.cc:390] Filling up shuffle buffer (this may take a while): 7805 of 40960\n",
      "2023-03-26 21:52:57.618144: I tensorflow/core/kernels/data/shuffle_dataset_op.cc:415] Shuffle buffer filled.\n"
     ]
    },
    {
     "name": "stdout",
     "output_type": "stream",
     "text": [
      "Vocabulary size (user_id): 6041\n",
      "Vocabulary size (movie_title): 4294\n"
     ]
    }
   ],
   "source": [
    "# TODO: example models\n",
    "user_id_lookup_layer = get_user_id_lookup_layer(datasets.training_datasets.train_ds)\n",
    "print(f\"Vocabulary size (user_id): {len(user_id_lookup_layer.get_vocabulary())}\")\n",
    "\n",
    "movie_title_lookup_layer = get_movie_title_lookup_layer(datasets.training_datasets.train_ds)\n",
    "print(f\"Vocabulary size (movie_title): {len(movie_title_lookup_layer.get_vocabulary())}\")"
   ]
  },
  {
   "cell_type": "markdown",
   "id": "ca6399ce",
   "metadata": {},
   "source": [
    "## Defining the two tower model (without dynamic embeddings)"
   ]
  },
  {
   "cell_type": "code",
   "execution_count": 10,
   "id": "7f55b159",
   "metadata": {},
   "outputs": [],
   "source": [
    "class TwoTowerModel(tfrs.Model):\n",
    "  # We derive from a custom base class to help reduce boilerplate. Under the hood,\n",
    "  # these are still plain Keras Models.\n",
    "\n",
    "    def __init__(self,user_model: tf.keras.Model,item_model: tf.keras.Model,task: tfrs.tasks.Retrieval):\n",
    "        super().__init__()\n",
    "\n",
    "        # Set up user and movie representations.\n",
    "        self.user_model = user_model\n",
    "        self.item_model = item_model\n",
    "        # Set up a retrieval task.\n",
    "        self.task = task\n",
    "\n",
    "    def compute_loss(self, features: Dict[str, tf.Tensor], training=False) -> tf.Tensor:\n",
    "        # Define how the loss is computed.\n",
    "        user_embeddings = self.user_model(features[\"user_id\"])\n",
    "        movie_embeddings = self.item_model(features[\"movie_title\"])\n",
    "        return self.task(user_embeddings, movie_embeddings)\n"
   ]
  },
  {
   "cell_type": "markdown",
   "id": "ddab7e52",
   "metadata": {},
   "source": [
    "## Creating the model"
   ]
  },
  {
   "cell_type": "code",
   "execution_count": 11,
   "id": "b451e66e",
   "metadata": {},
   "outputs": [
    {
     "name": "stderr",
     "output_type": "stream",
     "text": [
      "WARNING:absl:`TensorInfo.dtype` is deprecated. Please change your code to use NumPy with the field `TensorInfo.np_dtype` or use TensorFlow with the field `TensorInfo.tf_dtype`.\n",
      "WARNING:absl:`TensorInfo.dtype` is deprecated. Please change your code to use NumPy with the field `TensorInfo.np_dtype` or use TensorFlow with the field `TensorInfo.tf_dtype`.\n"
     ]
    }
   ],
   "source": [
    "def create_two_tower_model(dataset: tf.data.Dataset, candidate_dataset: tf.data.Dataset) -> tf.keras.Model:\n",
    "    user_id_lookup_layer = get_user_id_lookup_layer(dataset)\n",
    "    movie_title_lookup_layer = get_movie_title_lookup_layer(dataset)\n",
    "    user_model = build_user_model(user_id_lookup_layer)\n",
    "    item_model = build_item_model(movie_title_lookup_layer)\n",
    "    task = tfrs.tasks.Retrieval(\n",
    "        metrics=tfrs.metrics.FactorizedTopK(\n",
    "            candidate_dataset.map(item_model)\n",
    "        ),\n",
    "    )\n",
    "\n",
    "    model = TwoTowerModel(user_model, item_model, task)\n",
    "    model.compile(optimizer=tf.keras.optimizers.Adam())\n",
    "    \n",
    "    return model\n",
    "\n",
    "datasets = create_datasets()\n",
    "model = create_two_tower_model(datasets.training_datasets.train_ds, datasets.candidate_dataset)"
   ]
  },
  {
   "cell_type": "markdown",
   "id": "13fbae80",
   "metadata": {},
   "source": [
    "## Training the model"
   ]
  },
  {
   "cell_type": "code",
   "execution_count": 12,
   "id": "3108ca07",
   "metadata": {},
   "outputs": [
    {
     "name": "stdout",
     "output_type": "stream",
     "text": [
      "Epoch 1/3\n",
      "220/220 [==============================] - 170s 736ms/step - factorized_top_k/top_1_categorical_accuracy: 3.8103e-04 - factorized_top_k/top_5_categorical_accuracy: 0.0032 - factorized_top_k/top_10_categorical_accuracy: 0.0068 - factorized_top_k/top_50_categorical_accuracy: 0.0313 - factorized_top_k/top_100_categorical_accuracy: 0.0585 - loss: 33569.1216 - regularization_loss: 0.0000e+00 - total_loss: 33569.1216 - val_factorized_top_k/top_1_categorical_accuracy: 9.2980e-04 - val_factorized_top_k/top_5_categorical_accuracy: 0.0067 - val_factorized_top_k/top_10_categorical_accuracy: 0.0136 - val_factorized_top_k/top_50_categorical_accuracy: 0.0589 - val_factorized_top_k/top_100_categorical_accuracy: 0.1040 - val_loss: 12447.3789 - val_regularization_loss: 0.0000e+00 - val_total_loss: 12447.3789\n",
      "Epoch 2/3\n",
      "220/220 [==============================] - 161s 700ms/step - factorized_top_k/top_1_categorical_accuracy: 0.0010 - factorized_top_k/top_5_categorical_accuracy: 0.0084 - factorized_top_k/top_10_categorical_accuracy: 0.0168 - factorized_top_k/top_50_categorical_accuracy: 0.0716 - factorized_top_k/top_100_categorical_accuracy: 0.1249 - loss: 33026.6988 - regularization_loss: 0.0000e+00 - total_loss: 33026.6988 - val_factorized_top_k/top_1_categorical_accuracy: 0.0013 - val_factorized_top_k/top_5_categorical_accuracy: 0.0085 - val_factorized_top_k/top_10_categorical_accuracy: 0.0175 - val_factorized_top_k/top_50_categorical_accuracy: 0.0747 - val_factorized_top_k/top_100_categorical_accuracy: 0.1291 - val_loss: 12368.4336 - val_regularization_loss: 0.0000e+00 - val_total_loss: 12368.4336\n",
      "Epoch 3/3\n",
      "220/220 [==============================] - 166s 719ms/step - factorized_top_k/top_1_categorical_accuracy: 0.0010 - factorized_top_k/top_5_categorical_accuracy: 0.0092 - factorized_top_k/top_10_categorical_accuracy: 0.0187 - factorized_top_k/top_50_categorical_accuracy: 0.0804 - factorized_top_k/top_100_categorical_accuracy: 0.1392 - loss: 32950.5598 - regularization_loss: 0.0000e+00 - total_loss: 32950.5598 - val_factorized_top_k/top_1_categorical_accuracy: 0.0012 - val_factorized_top_k/top_5_categorical_accuracy: 0.0088 - val_factorized_top_k/top_10_categorical_accuracy: 0.0184 - val_factorized_top_k/top_50_categorical_accuracy: 0.0786 - val_factorized_top_k/top_100_categorical_accuracy: 0.1368 - val_loss: 12354.6768 - val_regularization_loss: 0.0000e+00 - val_total_loss: 12354.6768\n"
     ]
    }
   ],
   "source": [
    "# Train for 3 epochs.\n",
    "\n",
    "history = model.fit(datasets.training_datasets.train_ds, epochs=3, validation_data=datasets.training_datasets.validation_ds)"
   ]
  },
  {
   "cell_type": "code",
   "execution_count": 13,
   "id": "7308cfd3",
   "metadata": {},
   "outputs": [],
   "source": [
    "history_standard = history.history"
   ]
  },
  {
   "cell_type": "markdown",
   "id": "4c76504f",
   "metadata": {},
   "source": [
    "## Using `BasicEmbedding` layer\n",
    "\n",
    "Defining user tower and iterm tower with dynamic embeddings"
   ]
  },
  {
   "cell_type": "code",
   "execution_count": 14,
   "id": "3e9503e1",
   "metadata": {},
   "outputs": [],
   "source": [
    "tf.compat.v1.reset_default_graph()\n",
    "\n",
    "def build_de_user_model(user_id_lookup_layer: tf.keras.layers.StringLookup) -> tf.keras.layers.Layer:\n",
    "    vocab_size = user_id_lookup_layer.vocabulary_size()\n",
    "    return tf.keras.Sequential([\n",
    "        # Fix from https://github.com/keras-team/keras/issues/16101\n",
    "        tf.keras.layers.InputLayer(input_shape=(), dtype=tf.string),\n",
    "        user_id_lookup_layer, \n",
    "        de.keras.layers.BasicEmbedding(\n",
    "            embedding_size=64,\n",
    "            initializer=tf.random_uniform_initializer(),\n",
    "            init_capacity=int(vocab_size*0.8), \n",
    "            restrict_policy=de.FrequencyRestrictPolicy,\n",
    "            name=\"UserDynamicEmbeddingLayer\"\n",
    "        ), \n",
    "        tf.keras.layers.Dense(64, activation=\"gelu\"),\n",
    "        tf.keras.layers.Dense(32),\n",
    "        tf.keras.layers.Lambda(lambda x: tf.math.l2_normalize(x, axis=1))\n",
    "        \n",
    "    ], name='user_model')\n",
    "\n",
    "def build_de_item_model(movie_title_lookup_layer: tf.keras.layers.StringLookup) -> tf.keras.layers.Layer:\n",
    "    vocab_size = movie_title_lookup_layer.vocabulary_size()\n",
    "    return tf.keras.models.Sequential([\n",
    "        tf.keras.layers.InputLayer(input_shape=(max_token_length), dtype=tf.string),\n",
    "        movie_title_lookup_layer, \n",
    "        de.keras.layers.SquashedEmbedding(\n",
    "            embedding_size=64,\n",
    "            initializer=tf.random_uniform_initializer(),\n",
    "            init_capacity=int(vocab_size*0.8), \n",
    "            restrict_policy=de.FrequencyRestrictPolicy,\n",
    "            combiner=\"mean\",\n",
    "            name=\"ItemDynamicEmbeddingLayer\"\n",
    "        ),\n",
    "        tf.keras.layers.Dense(64, activation=\"gelu\"),\n",
    "        tf.keras.layers.Dense(32),\n",
    "        tf.keras.layers.Lambda(lambda x: tf.math.l2_normalize(x, axis=1))\n",
    "    ])"
   ]
  },
  {
   "cell_type": "markdown",
   "id": "5070bc38",
   "metadata": {},
   "source": [
    "## Defining the callback to control and log dynamic embeddings"
   ]
  },
  {
   "cell_type": "code",
   "execution_count": 15,
   "id": "dcae0f22",
   "metadata": {},
   "outputs": [],
   "source": [
    "class DynamicEmbeddingCallback(tf.keras.callbacks.Callback):\n",
    "    \n",
    "    def __init__(self, model, steps_per_logging, steps_per_restrict=None, restrict=False):\n",
    "        self.model = model\n",
    "        self.steps_per_logging = steps_per_logging\n",
    "        self.steps_per_restrict = steps_per_restrict\n",
    "        self.restrict = restrict\n",
    "    \n",
    "    def on_train_begin(self, logs=None):\n",
    "        self.model.dynamic_embedding_history = {}\n",
    "        \n",
    "    def on_train_batch_end(self, batch, logs=None):\n",
    "                \n",
    "        if self.restrict and self.steps_per_restrict and (batch+1) % self.steps_per_restrict == 0:\n",
    "            \n",
    "            [\n",
    "                self.model.embedding_layers[k].params.restrict(\n",
    "                    int(self.model.lookup_vocab_sizes[k]*0.8), \n",
    "                    trigger=self.model.lookup_vocab_sizes[k]-2 # UNK & PAD tokens\n",
    "                ) for k in self.model.embedding_layers.keys()\n",
    "            ] \n",
    "        \n",
    "        if (batch+1) % self.steps_per_logging == 0:\n",
    "            \n",
    "            embedding_size_dict = {\n",
    "                k:self.model.embedding_layers[k].params.size().numpy() \n",
    "                for k in self.model.embedding_layers.keys()\n",
    "            }\n",
    "\n",
    "            for k, v in embedding_size_dict.items():\n",
    "                self.model.dynamic_embedding_history.setdefault(f\"embedding_size_{k}\", []).append(v)\n",
    "            self.model.dynamic_embedding_history.setdefault(f\"step\", []).append(batch+1)\n",
    "            "
   ]
  },
  {
   "cell_type": "markdown",
   "id": "b85a20c2",
   "metadata": {},
   "source": [
    "## Defining two tower model with dynamic embeddings"
   ]
  },
  {
   "cell_type": "code",
   "execution_count": 16,
   "id": "3f62219a",
   "metadata": {},
   "outputs": [],
   "source": [
    "class DynamicEmbeddingTwoTowerModel(tfrs.Model):\n",
    "  # We derive from a custom base class to help reduce boilerplate. Under the hood,\n",
    "  # these are still plain Keras Models.\n",
    "\n",
    "    def __init__(self,user_model: tf.keras.Model,item_model: tf.keras.Model,task: tfrs.tasks.Retrieval):\n",
    "        super().__init__()\n",
    "\n",
    "        # Set up user and movie representations.\n",
    "        self.user_model = user_model\n",
    "        self.item_model = item_model\n",
    "        \n",
    "        self.embedding_layers = {\n",
    "            \"user\": user_model.layers[1], \n",
    "            \"movie\": item_model.layers[1]\n",
    "        }\n",
    "        \n",
    "        if not all([\"embedding\" in v.name.lower() for k,v in self.embedding_layers.items()]):\n",
    "            raise TypeError(\n",
    "                f\"\"\"All layers in embedding_layers must be embedding layers.\n",
    "                Got {[v.name for v in self.embedding_layers.values()]}\"\"\"\n",
    "            )\n",
    "            \n",
    "        self.lookup_vocab_sizes = {\n",
    "            \"user\": user_model.layers[0].vocabulary_size(), \n",
    "            \"movie\": item_model.layers[0].vocabulary_size()\n",
    "        }\n",
    "        self.dynamic_embedding_history = {}\n",
    "        # Set up a retrieval task.\n",
    "        self.task = task\n",
    "\n",
    "    def compute_loss(self, features: Dict[str, tf.Tensor], training=False) -> tf.Tensor:\n",
    "        # Define how the loss is computed.\n",
    "        user_embeddings = self.user_model(features[\"user_id\"])\n",
    "        movie_embeddings = self.item_model(features[\"movie_title\"])\n",
    "        return self.task(user_embeddings, movie_embeddings)\n"
   ]
  },
  {
   "cell_type": "code",
   "execution_count": 17,
   "id": "91a3d7c7",
   "metadata": {},
   "outputs": [
    {
     "name": "stderr",
     "output_type": "stream",
     "text": [
      "WARNING:absl:`TensorInfo.dtype` is deprecated. Please change your code to use NumPy with the field `TensorInfo.np_dtype` or use TensorFlow with the field `TensorInfo.tf_dtype`.\n",
      "WARNING:absl:`TensorInfo.dtype` is deprecated. Please change your code to use NumPy with the field `TensorInfo.np_dtype` or use TensorFlow with the field `TensorInfo.tf_dtype`.\n",
      "2023-03-26 22:05:40.800429: I tensorflow/stream_executor/cuda/cuda_gpu_executor.cc:922] could not open file to read NUMA node: /sys/bus/pci/devices/0000:01:00.0/numa_node\n",
      "Your kernel may have been built without NUMA support.\n",
      "2023-03-26 22:05:40.801037: W tensorflow/core/common_runtime/gpu/gpu_device.cc:1850] Cannot dlopen some GPU libraries. Please make sure the missing libraries mentioned above are installed properly if you would like to use GPU. Follow the guide at https://www.tensorflow.org/install/gpu for how to download and setup the required libraries for your platform.\n",
      "Skipping registering GPU devices...\n",
      "2023-03-26 22:05:41.244705: I ./tensorflow_recommenders_addons/dynamic_embedding/core/kernels/lookup_impl/lookup_table_op_cpu.h:157] HashTable on CPU is created on optimized mode: K=l, V=i, DIM=1, init_size=4832\n",
      "2023-03-26 22:05:41.250108: I ./tensorflow_recommenders_addons/dynamic_embedding/core/kernels/lookup_impl/lookup_table_op_cpu.h:157] HashTable on CPU is created on optimized mode: K=l, V=f, DIM=64, init_size=4832\n",
      "2023-03-26 22:05:41.287039: I tensorflow/stream_executor/cuda/cuda_gpu_executor.cc:922] could not open file to read NUMA node: /sys/bus/pci/devices/0000:01:00.0/numa_node\n",
      "Your kernel may have been built without NUMA support.\n",
      "2023-03-26 22:05:41.287115: W tensorflow/core/common_runtime/gpu/gpu_device.cc:1850] Cannot dlopen some GPU libraries. Please make sure the missing libraries mentioned above are installed properly if you would like to use GPU. Follow the guide at https://www.tensorflow.org/install/gpu for how to download and setup the required libraries for your platform.\n",
      "Skipping registering GPU devices...\n",
      "2023-03-26 22:05:41.288358: I ./tensorflow_recommenders_addons/dynamic_embedding/core/kernels/lookup_impl/lookup_table_op_cpu.h:157] HashTable on CPU is created on optimized mode: K=l, V=i, DIM=1, init_size=3435\n",
      "2023-03-26 22:05:41.290654: I ./tensorflow_recommenders_addons/dynamic_embedding/core/kernels/lookup_impl/lookup_table_op_cpu.h:157] HashTable on CPU is created on optimized mode: K=l, V=f, DIM=64, init_size=3435\n"
     ]
    }
   ],
   "source": [
    "def create_de_two_tower_model(dataset: tf.data.Dataset, candidate_dataset: tf.data.Dataset) -> tf.keras.Model:\n",
    "    \n",
    "    user_id_lookup_layer = get_user_id_lookup_layer(dataset)\n",
    "    movie_title_lookup_layer = get_movie_title_lookup_layer(dataset)\n",
    "    user_model = build_de_user_model(user_id_lookup_layer)\n",
    "    item_model = build_de_item_model(movie_title_lookup_layer)\n",
    "    task = tfrs.tasks.Retrieval(\n",
    "        metrics=tfrs.metrics.FactorizedTopK(\n",
    "            candidate_dataset.map(item_model)\n",
    "        ),\n",
    "    )\n",
    "\n",
    "    model = DynamicEmbeddingTwoTowerModel(user_model, item_model, task)\n",
    "    optimizer = de.DynamicEmbeddingOptimizer(tf.keras.optimizers.Adam())\n",
    "    model.compile(optimizer=optimizer)\n",
    "    \n",
    "    return model\n",
    "\n",
    "datasets = create_datasets()\n",
    "de_model = create_de_two_tower_model(datasets.training_datasets.train_ds, datasets.candidate_dataset)"
   ]
  },
  {
   "cell_type": "markdown",
   "id": "c6471143",
   "metadata": {},
   "source": [
    "## Training the model with dynamic embeddings"
   ]
  },
  {
   "cell_type": "code",
   "execution_count": 18,
   "id": "5569c353",
   "metadata": {},
   "outputs": [
    {
     "name": "stderr",
     "output_type": "stream",
     "text": [
      "WARNING:absl:`TensorInfo.dtype` is deprecated. Please change your code to use NumPy with the field `TensorInfo.np_dtype` or use TensorFlow with the field `TensorInfo.tf_dtype`.\n",
      "WARNING:absl:`TensorInfo.dtype` is deprecated. Please change your code to use NumPy with the field `TensorInfo.np_dtype` or use TensorFlow with the field `TensorInfo.tf_dtype`.\n",
      "2023-03-26 22:05:41.982495: I ./tensorflow_recommenders_addons/dynamic_embedding/core/kernels/lookup_impl/lookup_table_op_cpu.h:157] HashTable on CPU is created on optimized mode: K=l, V=f, DIM=64, init_size=4832\n",
      "2023-03-26 22:05:41.985528: I ./tensorflow_recommenders_addons/dynamic_embedding/core/kernels/lookup_impl/lookup_table_op_cpu.h:157] HashTable on CPU is created on optimized mode: K=l, V=f, DIM=64, init_size=3435\n",
      "2023-03-26 22:05:41.988748: I ./tensorflow_recommenders_addons/dynamic_embedding/core/kernels/lookup_impl/lookup_table_op_cpu.h:157] HashTable on CPU is created on optimized mode: K=l, V=f, DIM=64, init_size=4832\n",
      "2023-03-26 22:05:41.992419: I ./tensorflow_recommenders_addons/dynamic_embedding/core/kernels/lookup_impl/lookup_table_op_cpu.h:157] HashTable on CPU is created on optimized mode: K=l, V=f, DIM=64, init_size=3435\n"
     ]
    },
    {
     "name": "stdout",
     "output_type": "stream",
     "text": [
      "220/220 [==============================] - 171s 739ms/step - factorized_top_k/top_1_categorical_accuracy: 3.6437e-04 - factorized_top_k/top_5_categorical_accuracy: 0.0031 - factorized_top_k/top_10_categorical_accuracy: 0.0061 - factorized_top_k/top_50_categorical_accuracy: 0.0285 - factorized_top_k/top_100_categorical_accuracy: 0.0538 - loss: 33643.9369 - regularization_loss: 0.0000e+00 - total_loss: 33643.9369 - val_factorized_top_k/top_1_categorical_accuracy: 0.0010 - val_factorized_top_k/top_5_categorical_accuracy: 0.0069 - val_factorized_top_k/top_10_categorical_accuracy: 0.0136 - val_factorized_top_k/top_50_categorical_accuracy: 0.0592 - val_factorized_top_k/top_100_categorical_accuracy: 0.1060 - val_loss: 12389.5146 - val_regularization_loss: 0.0000e+00 - val_total_loss: 12389.5146\n",
      "220/220 [==============================] - 175s 756ms/step - factorized_top_k/top_1_categorical_accuracy: 9.7868e-04 - factorized_top_k/top_5_categorical_accuracy: 0.0081 - factorized_top_k/top_10_categorical_accuracy: 0.0163 - factorized_top_k/top_50_categorical_accuracy: 0.0707 - factorized_top_k/top_100_categorical_accuracy: 0.1231 - loss: 33010.4202 - regularization_loss: 0.0000e+00 - total_loss: 33010.4202 - val_factorized_top_k/top_1_categorical_accuracy: 0.0012 - val_factorized_top_k/top_5_categorical_accuracy: 0.0090 - val_factorized_top_k/top_10_categorical_accuracy: 0.0175 - val_factorized_top_k/top_50_categorical_accuracy: 0.0765 - val_factorized_top_k/top_100_categorical_accuracy: 0.1319 - val_loss: 12334.0312 - val_regularization_loss: 0.0000e+00 - val_total_loss: 12334.0312\n",
      "220/220 [==============================] - 173s 745ms/step - factorized_top_k/top_1_categorical_accuracy: 0.0011 - factorized_top_k/top_5_categorical_accuracy: 0.0091 - factorized_top_k/top_10_categorical_accuracy: 0.0184 - factorized_top_k/top_50_categorical_accuracy: 0.0792 - factorized_top_k/top_100_categorical_accuracy: 0.1370 - loss: 32948.0172 - regularization_loss: 0.0000e+00 - total_loss: 32948.0172 - val_factorized_top_k/top_1_categorical_accuracy: 0.0011 - val_factorized_top_k/top_5_categorical_accuracy: 0.0086 - val_factorized_top_k/top_10_categorical_accuracy: 0.0183 - val_factorized_top_k/top_50_categorical_accuracy: 0.0764 - val_factorized_top_k/top_100_categorical_accuracy: 0.1324 - val_loss: 12322.3301 - val_regularization_loss: 0.0000e+00 - val_total_loss: 12322.3301\n"
     ]
    }
   ],
   "source": [
    "epochs = 3\n",
    "\n",
    "history_de = {}\n",
    "history_de_size = {}\n",
    "de_callback = DynamicEmbeddingCallback(de_model, steps_per_logging=20)\n",
    "\n",
    "for epoch in range(epochs):\n",
    "\n",
    "    datasets = create_datasets()\n",
    "    train_steps = len(datasets.training_datasets.train_ds)\n",
    "    \n",
    "    hist = de_model.fit(\n",
    "        datasets.training_datasets.train_ds, \n",
    "        epochs=1, \n",
    "        validation_data=datasets.training_datasets.validation_ds, \n",
    "        callbacks=[de_callback]\n",
    "    )\n",
    "    \n",
    "    for k,v in de_model.dynamic_embedding_history.items():\n",
    "        if k==\"step\":\n",
    "            v = [vv+(epoch*train_steps) for vv in v]\n",
    "        history_de_size.setdefault(k, []).extend(v)\n",
    "        \n",
    "    for k,v in hist.history.items():\n",
    "        history_de.setdefault(k, []).extend(v)"
   ]
  },
  {
   "cell_type": "markdown",
   "id": "a2650791",
   "metadata": {},
   "source": [
    "## Training the model with dynamic embeddings (streaming with restrict)"
   ]
  },
  {
   "cell_type": "code",
   "execution_count": null,
   "id": "e05286e2",
   "metadata": {},
   "outputs": [
    {
     "name": "stderr",
     "output_type": "stream",
     "text": [
      "2023-03-26 22:15:49.264031: I tensorflow/stream_executor/cuda/cuda_gpu_executor.cc:922] could not open file to read NUMA node: /sys/bus/pci/devices/0000:01:00.0/numa_node\n",
      "Your kernel may have been built without NUMA support.\n",
      "2023-03-26 22:15:49.264195: W tensorflow/core/common_runtime/gpu/gpu_device.cc:1850] Cannot dlopen some GPU libraries. Please make sure the missing libraries mentioned above are installed properly if you would like to use GPU. Follow the guide at https://www.tensorflow.org/install/gpu for how to download and setup the required libraries for your platform.\n",
      "Skipping registering GPU devices...\n",
      "2023-03-26 22:15:49.266002: I ./tensorflow_recommenders_addons/dynamic_embedding/core/kernels/lookup_impl/lookup_table_op_cpu.h:157] HashTable on CPU is created on optimized mode: K=l, V=i, DIM=1, init_size=4832\n",
      "2023-03-26 22:15:49.267788: I ./tensorflow_recommenders_addons/dynamic_embedding/core/kernels/lookup_impl/lookup_table_op_cpu.h:157] HashTable on CPU is created on optimized mode: K=l, V=f, DIM=64, init_size=4832\n",
      "2023-03-26 22:15:49.298838: I tensorflow/stream_executor/cuda/cuda_gpu_executor.cc:922] could not open file to read NUMA node: /sys/bus/pci/devices/0000:01:00.0/numa_node\n",
      "Your kernel may have been built without NUMA support.\n",
      "2023-03-26 22:15:49.298927: W tensorflow/core/common_runtime/gpu/gpu_device.cc:1850] Cannot dlopen some GPU libraries. Please make sure the missing libraries mentioned above are installed properly if you would like to use GPU. Follow the guide at https://www.tensorflow.org/install/gpu for how to download and setup the required libraries for your platform.\n",
      "Skipping registering GPU devices...\n",
      "2023-03-26 22:15:49.299760: I ./tensorflow_recommenders_addons/dynamic_embedding/core/kernels/lookup_impl/lookup_table_op_cpu.h:157] HashTable on CPU is created on optimized mode: K=l, V=i, DIM=1, init_size=3435\n",
      "2023-03-26 22:15:49.301404: I ./tensorflow_recommenders_addons/dynamic_embedding/core/kernels/lookup_impl/lookup_table_op_cpu.h:157] HashTable on CPU is created on optimized mode: K=l, V=f, DIM=64, init_size=3435\n",
      "2023-03-26 22:15:49.674740: I ./tensorflow_recommenders_addons/dynamic_embedding/core/kernels/lookup_impl/lookup_table_op_cpu.h:157] HashTable on CPU is created on optimized mode: K=l, V=f, DIM=64, init_size=4832\n",
      "2023-03-26 22:15:49.678229: I ./tensorflow_recommenders_addons/dynamic_embedding/core/kernels/lookup_impl/lookup_table_op_cpu.h:157] HashTable on CPU is created on optimized mode: K=l, V=f, DIM=64, init_size=3435\n",
      "2023-03-26 22:15:49.681106: I ./tensorflow_recommenders_addons/dynamic_embedding/core/kernels/lookup_impl/lookup_table_op_cpu.h:157] HashTable on CPU is created on optimized mode: K=l, V=f, DIM=64, init_size=4832\n",
      "2023-03-26 22:15:49.683763: I ./tensorflow_recommenders_addons/dynamic_embedding/core/kernels/lookup_impl/lookup_table_op_cpu.h:157] HashTable on CPU is created on optimized mode: K=l, V=f, DIM=64, init_size=3435\n"
     ]
    },
    {
     "name": "stdout",
     "output_type": "stream",
     "text": [
      " 77/220 [=========>....................] - ETA: 1:32 - factorized_top_k/top_1_categorical_accuracy: 1.0463e-04 - factorized_top_k/top_5_categorical_accuracy: 0.0011 - factorized_top_k/top_10_categorical_accuracy: 0.0024 - factorized_top_k/top_50_categorical_accuracy: 0.0135 - factorized_top_k/top_100_categorical_accuracy: 0.0266 - loss: 34054.4569 - regularization_loss: 0.0000e+00 - total_loss: 34054.4569"
     ]
    }
   ],
   "source": [
    "tf.compat.v1.reset_default_graph()\n",
    "\n",
    "datasets = create_datasets()\n",
    "de_model = create_de_two_tower_model(datasets.training_datasets.train_ds, datasets.candidate_dataset)\n",
    "\n",
    "epochs = 3\n",
    "\n",
    "history_de_restrict = {}\n",
    "history_de_size_restrict = {}\n",
    "de_callback = DynamicEmbeddingCallback(de_model, steps_per_logging=20, steps_per_restrict=220, restrict=True)\n",
    "\n",
    "for epoch in range(epochs):\n",
    "\n",
    "    datasets = create_datasets()\n",
    "    train_steps = len(datasets.training_datasets.train_ds)\n",
    "    \n",
    "    hist = de_model.fit(\n",
    "        datasets.training_datasets.train_ds, \n",
    "        epochs=1, \n",
    "        validation_data=datasets.training_datasets.validation_ds, \n",
    "        callbacks=[de_callback]\n",
    "    )\n",
    "    \n",
    "    for k,v in de_model.dynamic_embedding_history.items():\n",
    "        if k==\"step\":\n",
    "            v = [vv+(epoch*train_steps) for vv in v]\n",
    "        history_de_size_restrict.setdefault(k, []).extend(v)\n",
    "        \n",
    "    for k,v in hist.history.items():\n",
    "        history_de_restrict.setdefault(k, []).extend(v)"
   ]
  },
  {
   "cell_type": "markdown",
   "id": "c84bc203",
   "metadata": {},
   "source": [
    "## Plotting accuracies"
   ]
  },
  {
   "cell_type": "code",
   "execution_count": null,
   "id": "e70eaec0",
   "metadata": {},
   "outputs": [],
   "source": [
    "steps = [(epoch+1)*train_steps for epoch in range(epochs)]\n",
    "plt.plot(steps, history_standard[\"factorized_top_k/top_100_categorical_accuracy\"], color=\"r\", linestyle=\"--\", label=\"Train accuracy\")\n",
    "plt.plot(steps, history_de[\"factorized_top_k/top_100_categorical_accuracy\"], color=\"g\", linestyle=\"--\", label=\"Train accuracy (DE)\")\n",
    "plt.plot(steps, history_de_restrict[\"factorized_top_k/top_100_categorical_accuracy\"], color=\"b\", linestyle=\"--\", label=\"Train accuracy (DE+restrict)\")\n",
    "plt.plot(steps, history_standard[\"val_factorized_top_k/top_100_categorical_accuracy\"], color=\"r\", label=\"Validation accuracy\")\n",
    "plt.plot(steps, history_de[\"val_factorized_top_k/top_100_categorical_accuracy\"], color=\"g\", label=\"Validation accuracy (DE)\")\n",
    "plt.plot(steps, history_de_restrict[\"val_factorized_top_k/top_100_categorical_accuracy\"], color=\"b\", label=\"Validation accuracy (DE+restrict)\")\n",
    "plt.legend()\n",
    "plt.xlabel(\"Step\")\n",
    "plt.ylabel(\"Accuracy\")\n",
    "plt.title(\"Model accuracy with and wo dynamic embeddings\")"
   ]
  },
  {
   "cell_type": "markdown",
   "id": "c7ca8455",
   "metadata": {},
   "source": [
    "## Plotting embedding sizes"
   ]
  },
  {
   "cell_type": "code",
   "execution_count": null,
   "id": "4bff27c2",
   "metadata": {},
   "outputs": [],
   "source": [
    "steps = history_de_size[\"step\"]\n",
    "plt.plot(steps, history_de_size[\"embedding_size_user\"], color=\"r\", label=\"User embedding\")\n",
    "plt.plot(steps, history_de_size_restrict[\"embedding_size_user\"], color=\"r\", linestyle=\":\", label=\"User embedding (restrict)\")\n",
    "plt.axhline(de_model.lookup_vocab_sizes[\"user\"], color=\"r\", linestyle=\"--\")\n",
    "plt.plot(steps, history_de_size[\"embedding_size_movie\"], color=\"g\", label=\"Movie embedding\")\n",
    "plt.plot(steps, history_de_size_restrict[\"embedding_size_movie\"], color=\"g\", linestyle=\":\", label=\"Movie embedding (restrict)\")\n",
    "plt.axhline(de_model.lookup_vocab_sizes[\"movie\"], color=\"g\", linestyle=\"--\")\n",
    "plt.ylabel(\"Embedding size\")\n",
    "plt.xlabel(\"Step\")\n",
    "plt.title(\"Changes in the embedding size over time\")\n",
    "plt.legend()\n",
    "plt.show()"
   ]
  },
  {
   "cell_type": "markdown",
   "id": "e88bd34a",
   "metadata": {},
   "source": [
    "## Some EDA"
   ]
  },
  {
   "cell_type": "code",
   "execution_count": 36,
   "id": "64c8e204",
   "metadata": {},
   "outputs": [
    {
     "name": "stdout",
     "output_type": "stream",
     "text": [
      "count    100000.000000\n",
      "mean          3.902200\n",
      "std           1.728747\n",
      "min           2.000000\n",
      "50%           3.000000\n",
      "90%           6.000000\n",
      "max          15.000000\n",
      "Name: movie_title, dtype: float64\n"
     ]
    },
    {
     "data": {
      "text/plain": [
       "<Axes: >"
      ]
     },
     "execution_count": 36,
     "metadata": {},
     "output_type": "execute_result"
    },
    {
     "data": {
      "image/png": "[encoded data removed]",
      "text/plain": [
       "<Figure size 1200x800 with 2 Axes>"
      ]
     },
     "metadata": {},
     "output_type": "display_data"
    }
   ],
   "source": [
    "df = tfds.as_dataframe(raw_ratings_dataset.shuffle(buffer_size=10000, seed=2023).take(100000))\n",
    "\n",
    "# Getting the 90th percentile of movie title lengths\n",
    "movie_title_len = df[\"movie_title\"].str.decode(\"utf-8\").str.lower().str.replace(punctuation_regex, \" \", regex=True).str.split().str.len().describe(percentiles=[0.9])\n",
    "print(movie_title_len)\n",
    "\n",
    "# Plotting frequencies of different IDs/tokens\n",
    "user_id_ser = df[\"user_id\"].str.decode(\"utf-8\").value_counts().iloc[:100]\n",
    "movie_title_ser = df[\"movie_title\"].str.decode(\"utf-8\").str.lower().str.replace(punctuation_regex, \" \", regex=True).str.split().explode().value_counts().iloc[:100]\n",
    "\n",
    "\n",
    "plt.subplots(2,1, figsize=(12, 8))\n",
    "\n",
    "plt.subplot(2,1,1)\n",
    "user_id_ser.plot.bar()\n",
    "\n",
    "plt.subplot(2,1,2)\n",
    "movie_title_ser.plot.bar()"
   ]
  },
  {
   "cell_type": "code",
   "execution_count": null,
   "id": "556fb6b0",
   "metadata": {},
   "outputs": [],
   "source": []
  },
  {
   "cell_type": "code",
   "execution_count": null,
   "id": "b159d303",
   "metadata": {},
   "outputs": [],
   "source": []
  }
 ],
 "metadata": {
  "kernelspec": {
   "display_name": "Python 3 (ipykernel)",
   "language": "python",
   "name": "python3"
  },
  "language_info": {
   "codemirror_mode": {
    "name": "ipython",
    "version": 3
   },
   "file_extension": ".py",
   "mimetype": "text/x-python",
   "name": "python",
   "nbconvert_exporter": "python",
   "pygments_lexer": "ipython3",
   "version": "3.9.16"
  }
 },
 "nbformat": 4,
 "nbformat_minor": 5
}
